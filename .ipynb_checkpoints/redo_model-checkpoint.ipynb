{
 "cells": [
  {
   "cell_type": "code",
   "execution_count": 1,
   "metadata": {},
   "outputs": [
    {
     "name": "stderr",
     "output_type": "stream",
     "text": [
      "C:\\Users\\rfrancis\\AppData\\Local\\Continuum\\anaconda3\\lib\\site-packages\\h5py\\__init__.py:34: FutureWarning: Conversion of the second argument of issubdtype from `float` to `np.floating` is deprecated. In future, it will be treated as `np.float64 == np.dtype(float).type`.\n",
      "  from ._conv import register_converters as _register_converters\n",
      "Using TensorFlow backend.\n"
     ]
    }
   ],
   "source": [
    "import numpy as np\n",
    "import os\n",
    "import glob\n",
    "import keras as kr\n",
    "import ryan_tools as rt"
   ]
  },
  {
   "cell_type": "code",
   "execution_count": 2,
   "metadata": {
    "collapsed": true
   },
   "outputs": [],
   "source": [
    "class TextGetter():\n",
    "    def get_article_list(self):\n",
    "        os.chdir('cleaned')\n",
    "        file_list = glob.glob('*.txt')\n",
    "        os.chdir('..')\n",
    "        return file_list\n",
    "\n",
    "    def get_article(self, name):\n",
    "        os.chdir('cleaned')\n",
    "        with open(name, 'r') as f:\n",
    "            text = f.read()\n",
    "        os.chdir('..')\n",
    "        return text\n",
    "    \n",
    "    def get_corpus(self):\n",
    "        articles = self.get_article_list()\n",
    "        result = ''\n",
    "        bar = rt.progress_bar(len(articles))\n",
    "        for art_name in articles:\n",
    "            result = result + self.get_article(art_name)\n",
    "            bar.progress()\n",
    "        return result\n",
    "    \n"
   ]
  },
  {
   "cell_type": "code",
   "execution_count": 3,
   "metadata": {
    "collapsed": true
   },
   "outputs": [],
   "source": [
    "def get_text():\n",
    "    text_getter = TextGetter()\n",
    "    text = text_getter.get_corpus()\n",
    "    return text"
   ]
  },
  {
   "cell_type": "code",
   "execution_count": 4,
   "metadata": {
    "collapsed": true
   },
   "outputs": [],
   "source": [
    "def create_dictionaries(text):\n",
    "    char_id = dict(zip(set(text), range(len(set(text)))))\n",
    "    id_char = dict(zip(char_id.values(), char_id.keys()))\n",
    "    return id_char, char_id"
   ]
  },
  {
   "cell_type": "code",
   "execution_count": 174,
   "metadata": {
    "collapsed": true
   },
   "outputs": [],
   "source": [
    "def sample(a, temperature=1.0):\n",
    "    a = a**(1/temperature)\n",
    "    a_sum = a.sum()\n",
    "    sample_temp = a/(a.sum()*1.0001)\n",
    "    sampled = np.random.multinomial(1, sample_temp, 1)\n",
    "    return np.argmax(sampled)\n",
    "\n",
    "def convert_char_id(text):\n",
    "    result = []\n",
    "    features = len(char_id)\n",
    "    for i, char in enumerate(text):\n",
    "        position = int(char_id[char])\n",
    "        observation = np.zeros(( features))\n",
    "        observation[position] = 1\n",
    "        result.append(observation)\n",
    "    return np.array(result)\n",
    "\n",
    "def convert_id_char(onehot, temperature):\n",
    "    result = ''\n",
    "    for letter in onehot:\n",
    "        l = sample(letter, temperature)\n",
    "        result = result + id_char[l]\n",
    "    return result\n",
    "\n",
    "def get_X_y(list_of_one_hots, sentence_length, do_bar = True):\n",
    "    y = []\n",
    "    X = []\n",
    "    if do_bar:\n",
    "        bar = rt.progress_bar(len(list_of_one_hots), 100)\n",
    "    for i, letter in enumerate(list_of_one_hots):\n",
    "        if i > sentence_length:\n",
    "            y.append(letter)\n",
    "\n",
    "            x = list_of_one_hots[i- sentence_length:i]\n",
    "            X.append(x)\n",
    "        if do_bar:\n",
    "            bar.progress()\n",
    "\n",
    "    return np.array(X), np.array(y)"
   ]
  },
  {
   "cell_type": "code",
   "execution_count": 177,
   "metadata": {
    "collapsed": true
   },
   "outputs": [],
   "source": [
    "def generate_model(X, y):\n",
    "    model = kr.models.Sequential()\n",
    "    model.add(kr.layers.LSTM(128, input_shape=X.shape[1:],return_sequences= False ))\n",
    "    model.add(kr.layers.Dense(X.shape[2]))\n",
    "    model.add(kr.layers.Activation('softmax'))\n",
    "    optimizer = kr.optimizers.Adam()\n",
    "    model.compile(loss='categorical_crossentropy', optimizer=optimizer)\n",
    "    return model\n",
    "model = None"
   ]
  },
  {
   "cell_type": "code",
   "execution_count": 113,
   "metadata": {
    "collapsed": true
   },
   "outputs": [],
   "source": [
    "def predict(text, temperature):\n",
    "    onehot = convert_char_id(text[-sentence_length:])\n",
    "    return convert_id_char(model.predict(np.array([onehot]), 1), temperature)"
   ]
  },
  {
   "cell_type": "code",
   "execution_count": 111,
   "metadata": {
    "collapsed": true
   },
   "outputs": [],
   "source": [
    "def print_letters(seed_text, sentence_length, how_many, temperature= 1):\n",
    "    while len(seed_text) < sentence_length:\n",
    "        seed_text = ' ' + seed_text\n",
    "        \n",
    "    result = seed_text\n",
    "    for num in range(0, how_many):\n",
    "        prediction = predict(seed_text, temperature)\n",
    "        seed_text = seed_text[1:] + prediction\n",
    "        result = result + prediction\n",
    "    return result"
   ]
  },
  {
   "cell_type": "code",
   "execution_count": 90,
   "metadata": {},
   "outputs": [
    {
     "name": "stdout",
     "output_type": "stream",
     "text": [
      "0o0o0o0o0o0o0o0o0o0o0o0o0o0o0o0o0o0o0o0o0o0o0o0o0o0o0o0o0o0o0o0o0o0o0o0o0o0o0o0o0o0o0o0o0o0o0o0o0o> | 100.00 % \n",
      "Done: 324 Remaining: 1, Remaining Time: 0s\n"
     ]
    }
   ],
   "source": [
    "text = get_text()\n",
    "id_char, char_id = create_dictionaries(text)\n",
    "one_hots = convert_char_id(text)"
   ]
  },
  {
   "cell_type": "code",
   "execution_count": 178,
   "metadata": {},
   "outputs": [
    {
     "name": "stdout",
     "output_type": "stream",
     "text": [
      "0o0o0o0o0o0o0o0o0o0o0o0o0o0o0o0o0o0o0o0o0o0o0o0o0o0o0o0o0o0o0o0o0o0o0o0o0o0o0o0o0o0o0o0o0>          | 90.09 % \n",
      "Done: 900 Remaining: 100, Remaining Time: 0s\n"
     ]
    }
   ],
   "source": [
    "sentence_length = 100\n",
    "X,y  = get_X_y(one_hots[0: 1000], sentence_length)\n",
    "model = generate_model(X, y)\n"
   ]
  },
  {
   "cell_type": "code",
   "execution_count": 189,
   "metadata": {
    "collapsed": true
   },
   "outputs": [],
   "source": [
    "import time"
   ]
  },
  {
   "cell_type": "code",
   "execution_count": 242,
   "metadata": {},
   "outputs": [],
   "source": [
    "\n",
    "def test_sizes(batch_size, samples, epochs):\n",
    "    global start_point\n",
    "    start = time.time()\n",
    "    X,y  = get_X_y(one_hots[start_point: start_point + samples], sentence_length, False)\n",
    "    callback = model.fit(X, y, epochs = epochs, batch_size= size, verbose =0 )\n",
    "    start_point = start_point + samples\n",
    "    time_taken = time.time() - start\n",
    "    print(start_point)\n",
    "    print('Projected Time for 10000 samples {}'.format(time_taken * 10000/(samples* epochs)))\n",
    "    return callback"
   ]
  },
  {
   "cell_type": "code",
   "execution_count": null,
   "metadata": {
    "scrolled": true
   },
   "outputs": [],
   "source": [
    "for num in range(len(one_hots)):\n",
    "    if num%1000 == 0:\n",
    "        start = num\n",
    "        \n",
    "        callback = test_sizes(160, 160, 100)\n",
    "        print(min(callback.history['loss']))\n",
    "        for temperature in [0.1, 0.3, .5, .7, 1]:\n",
    "            print(temperature)\n",
    "            seed_text = 'The five whys analysis is also known as the why-why chart and root cause analysis.'.lower()\n",
    "            print(print_letters(seed_text, sentence_length, 50, temperature).capitalize()[len(seed_text):])\n",
    "        if num%10000 == 0:\n",
    "            rt.clear_output()"
   ]
  }
 ],
 "metadata": {
  "kernelspec": {
   "display_name": "Python 3",
   "language": "python",
   "name": "python3"
  },
  "language_info": {
   "codemirror_mode": {
    "name": "ipython",
    "version": 3
   },
   "file_extension": ".py",
   "mimetype": "text/x-python",
   "name": "python",
   "nbconvert_exporter": "python",
   "pygments_lexer": "ipython3",
   "version": "3.6.3"
  }
 },
 "nbformat": 4,
 "nbformat_minor": 2
}
