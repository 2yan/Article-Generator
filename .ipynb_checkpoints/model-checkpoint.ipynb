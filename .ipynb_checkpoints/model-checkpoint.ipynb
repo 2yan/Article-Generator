{
 "cells": [
  {
   "cell_type": "code",
   "execution_count": 1,
   "metadata": {
    "scrolled": false
   },
   "outputs": [
    {
     "name": "stderr",
     "output_type": "stream",
     "text": [
      "C:\\Users\\rfrancis\\AppData\\Local\\Continuum\\anaconda3\\lib\\site-packages\\h5py\\__init__.py:34: FutureWarning: Conversion of the second argument of issubdtype from `float` to `np.floating` is deprecated. In future, it will be treated as `np.float64 == np.dtype(float).type`.\n",
      "  from ._conv import register_converters as _register_converters\n",
      "Using TensorFlow backend.\n"
     ]
    }
   ],
   "source": [
    "import json\n",
    "import os\n",
    "import glob\n",
    "import numpy as np\n",
    "import keras as kr\n",
    "from datetime import datetime\n",
    "from IPython.display import clear_output"
   ]
  },
  {
   "cell_type": "code",
   "execution_count": 2,
   "metadata": {},
   "outputs": [],
   "source": [
    "def load_dictionaries():\n",
    "    with open('text_number_mapping.json', 'r') as f:\n",
    "        final = json.load(f)\n",
    "    id_char = final['id_char']\n",
    "    char_id = final['char_id']\n",
    "    return id_char, char_id\n",
    "\n",
    "def get_article_list():\n",
    "    os.chdir('cleaned')\n",
    "    file_list = glob.glob('*.txt')\n",
    "    os.chdir('..')\n",
    "    return file_list\n",
    "\n",
    "def get_article(name):\n",
    "    os.chdir('cleaned')\n",
    "    with open(name, 'r') as f:\n",
    "        text = f.read()\n",
    "    os.chdir('..')\n",
    "    return ' hello world ' * 500\n",
    "    return text\n",
    "\n",
    "id_char, char_id = load_dictionaries()\n",
    "article_list = get_article_list()"
   ]
  },
  {
   "cell_type": "code",
   "execution_count": 3,
   "metadata": {
    "collapsed": true
   },
   "outputs": [],
   "source": [
    "def convert_char_id(text):\n",
    "    result = []\n",
    "    features = len(char_id)\n",
    "    for i, char in enumerate(text):\n",
    "        position = int(char_id[char])\n",
    "        observation = np.zeros(( features))\n",
    "        observation[position] = 1\n",
    "        result.append(observation)\n",
    "    return np.array(result)\n",
    "\n",
    "def convert_id_char(onehot):\n",
    "    result = ''\n",
    "    for letter in onehot:\n",
    "        l = list(letter).index(max(letter))\n",
    "        result = result + id_char[str(l)]\n",
    "    return result\n",
    "\n",
    "def get_X_y(list_of_one_hots, sentence_length):\n",
    "    y = []\n",
    "    X = []\n",
    "    for i, letter in enumerate(list_of_one_hots):\n",
    "        if i > sentence_length:\n",
    "            y.append(letter)\n",
    "\n",
    "            x = list_of_one_hots[i- sentence_length:i]\n",
    "            X.append(x)\n",
    "\n",
    "    return np.array(X), np.array(y)"
   ]
  },
  {
   "cell_type": "code",
   "execution_count": 4,
   "metadata": {
    "collapsed": true
   },
   "outputs": [],
   "source": [
    "def predict(text):\n",
    "    onehot = convert_char_id(text[-sentence_length:])\n",
    "    return convert_id_char(model.predict(np.array([onehot]), 1))"
   ]
  },
  {
   "cell_type": "code",
   "execution_count": 5,
   "metadata": {},
   "outputs": [],
   "source": [
    "def train_on_article(name, epochs):\n",
    "    global model\n",
    "    text = get_article(name)\n",
    "    text = 'abcdefghijklonopqrstuvwxyz' * 10\n",
    "    onehot = convert_char_id(text)\n",
    "    X, y = get_X_y(onehot,sentence_length )\n",
    "    if type(model) == type(None):\n",
    "        model = generate_model(X, y)\n",
    "    model.fit(X, y, epochs = epochs, batch_size= 100)"
   ]
  },
  {
   "cell_type": "code",
   "execution_count": 6,
   "metadata": {},
   "outputs": [],
   "source": [
    "def generate_model(X, y):\n",
    "    model = kr.models.Sequential()\n",
    "    model.add(kr.layers.LSTM(16, input_shape=X.shape[1:],return_sequences= True ))\n",
    "    model.add(kr.layers.Dropout(0.1))\n",
    "    model.add(kr.layers.LSTM(16))\n",
    "    model.add(kr.layers.Dense(X.shape[2]))\n",
    "    model.add(kr.layers.Activation('softmax'))\n",
    "    optimizer = kr.optimizers.Adam()\n",
    "    model.compile(loss='categorical_crossentropy', optimizer=optimizer)\n",
    "    return model\n",
    "\n",
    "model = None"
   ]
  },
  {
   "cell_type": "code",
   "execution_count": 7,
   "metadata": {
    "collapsed": true
   },
   "outputs": [],
   "source": [
    "def print_letters(seed_text, length):\n",
    "    while len(seed_text) < sentence_length:\n",
    "        seed_text = ' ' + seed_text\n",
    "    \n",
    "    result = ''\n",
    "    last_val = ''\n",
    "    for num in range(length):\n",
    "        last_val = predict(seed_text)\n",
    "        result = result + last_val\n",
    "    return result"
   ]
  },
  {
   "cell_type": "code",
   "execution_count": 8,
   "metadata": {
    "collapsed": true
   },
   "outputs": [],
   "source": [
    "sentence_length= 100"
   ]
  },
  {
   "cell_type": "code",
   "execution_count": null,
   "metadata": {
    "collapsed": true
   },
   "outputs": [],
   "source": [
    "def log(message):\n",
    "    print(message)\n",
    "    with open('log.txt', 'a') as f:\n",
    "        f.write('\\n')\n",
    "        f.write(datetime.now().isoformat())\n",
    "        f.write('    :')\n",
    "        f.write(message)\n",
    "    return "
   ]
  },
  {
   "cell_type": "code",
   "execution_count": null,
   "metadata": {},
   "outputs": [
    {
     "name": "stdout",
     "output_type": "stream",
     "text": [
      "oooooooooooooooooooooooooooooooooooooooooooooooooooooooooooooooooooooooooooooooooooooooooooooooooooooooooooooooooooooooooooooooooooooooooooooooooooooooooooooooooooooooooooooooooooooooooooooooooooooooooooooooooooooooooooooooooooooooooooooooooooooooooooooooooooooooooooooooooooooooooooooooooooooooooooooooooooooooooooooooooooooooooooooooooooooooooooooooooooooooooooooooooooooooooooooooooooooooooooooooooooooooooooooooooooooooooooooooooooooooooooooooooooooooooooooooooooooooooooooooooooooooooooooooooooo\n",
      "Epoch 1/1\n",
      "159/159 [==============================] - 0s 975us/step - loss: 4.1982\n"
     ]
    }
   ],
   "source": [
    "for article in article_list:\n",
    "    train_on_article(article, 10)\n",
    "    clear_output(True)\n",
    "    log(print_letters('abcdefgh', 500))"
   ]
  }
 ],
 "metadata": {
  "kernelspec": {
   "display_name": "Python 3",
   "language": "python",
   "name": "python3"
  },
  "language_info": {
   "codemirror_mode": {
    "name": "ipython",
    "version": 3
   },
   "file_extension": ".py",
   "mimetype": "text/x-python",
   "name": "python",
   "nbconvert_exporter": "python",
   "pygments_lexer": "ipython3",
   "version": "3.6.3"
  }
 },
 "nbformat": 4,
 "nbformat_minor": 2
}
